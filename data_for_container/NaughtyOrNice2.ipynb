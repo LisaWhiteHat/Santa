{
  "nbformat": 4,
  "nbformat_minor": 0,
  "metadata": {
    "colab": {
      "name": "Untitled3.ipynb",
      "provenance": []
    },
    "kernelspec": {
      "name": "python3",
      "display_name": "Python 3"
    }
  },
  "cells": [
    {
      "cell_type": "markdown",
      "metadata": {
        "id": "vEbYSbMRbXxe",
        "colab_type": "text"
      },
      "source": [
        "# Naughty or Nice - Santa's Logistic Regression\n",
        "\n",
        "\n"
      ]
    },
    {
      "cell_type": "code",
      "metadata": {
        "id": "oBUbhTTKbde_",
        "colab_type": "code",
        "colab": {}
      },
      "source": [
        "import bamboolib as bam\n",
        "bam.enable()"
      ],
      "execution_count": 0,
      "outputs": []
    },
    {
      "cell_type": "markdown",
      "metadata": {
        "id": "2jTyLyyObgVf",
        "colab_type": "text"
      },
      "source": [
        "## Import Libraries"
      ]
    },
    {
      "cell_type": "code",
      "metadata": {
        "id": "92h2iOagbgop",
        "colab_type": "code",
        "colab": {}
      },
      "source": [
        "import pandas as pd\n",
        "import seaborn as sns\n",
        "import numpy as np\n",
        "import matplotlib.pyplot as plt\n",
        "from sklearn.linear_model import LogisticRegression\n",
        "from sklearn.model_selection import train_test_split\n",
        "from sklearn import metrics\n",
        "\n",
        "%matplotlib inline"
      ],
      "execution_count": 0,
      "outputs": []
    },
    {
      "cell_type": "markdown",
      "metadata": {
        "id": "sqFmo1HMbkLv",
        "colab_type": "text"
      },
      "source": [
        "## Prepare Data\n",
        "### Read in Dataset and Set Index Col as first column"
      ]
    },
    {
      "cell_type": "code",
      "metadata": {
        "id": "RwFRet4lbmke",
        "colab_type": "code",
        "colab": {}
      },
      "source": [
        "santaslist = pd.read_csv(\"data/MOCK_DATA.csv\", index_col=0)"
      ],
      "execution_count": 0,
      "outputs": []
    },
    {
      "cell_type": "code",
      "metadata": {
        "id": "rtFXaJdlbnN4",
        "colab_type": "code",
        "colab": {}
      },
      "source": [
        ""
      ],
      "execution_count": 0,
      "outputs": []
    },
    {
      "cell_type": "markdown",
      "metadata": {
        "id": "P26CaxrbbsO3",
        "colab_type": "text"
      },
      "source": [
        "### Clean Data - Map Gender & Count of Nasty Incidents"
      ]
    },
    {
      "cell_type": "code",
      "metadata": {
        "id": "HlPhC-rhbs1C",
        "colab_type": "code",
        "colab": {}
      },
      "source": [
        "santaslist.gender = santaslist.gender.map({'Male':1, 'Female':0})"
      ],
      "execution_count": 0,
      "outputs": []
    },
    {
      "cell_type": "code",
      "metadata": {
        "id": "0XhX8XKvbyB9",
        "colab_type": "code",
        "colab": {}
      },
      "source": [
        "#Could just directly make the dictionary but using Zip to demonstrate Zip\n",
        "nasties = ['Never', 'Once', 'Seldom', 'Yearly', 'Monthly', 'Often', 'Weekly', 'Daily']\n",
        "scores = [0,0,0,1,2,2,3,3]\n",
        "\n",
        "nasty_map = dict(zip(nasties,scores))\n",
        "\n",
        "santaslist.Count_of_nasty_incidents = santaslist.Count_of_nasty_incidents.map(nasty_map)"
      ],
      "execution_count": 0,
      "outputs": []
    },
    {
      "cell_type": "code",
      "metadata": {
        "id": "g_gvyrOvbzyb",
        "colab_type": "code",
        "colab": {}
      },
      "source": [
        "feature_cols = list(santaslist.columns)\n",
        "feature_cols.remove('first_name')\n",
        "feature_cols.remove('Nice')\n",
        "feature_cols.remove('last_name')"
      ],
      "execution_count": 0,
      "outputs": []
    },
    {
      "cell_type": "code",
      "metadata": {
        "id": "K8xIE-N-b4rG",
        "colab_type": "code",
        "colab": {}
      },
      "source": [
        "#Build Logistic Regression Model\n",
        "logreg = LogisticRegression(solver='lbfgs', max_iter=1000)\n",
        "\n",
        "#Define Features & target\n",
        "X = santaslist[feature_cols]\n",
        "y = santaslist.Nice\n",
        "\n",
        "#Split for train vs test\n",
        "X_train, X_test, y_train, y_test = train_test_split(X,y, random_state=142)\n",
        "\n",
        "#Fit the Model\n",
        "logreg.fit(X_train,y_train)\n",
        "\n",
        "\n",
        "y_pred = logreg.predict(X_test)\n",
        "\n",
        "score = logreg.score(X_test, y_test)\n",
        "\n",
        "logit_pred_proba = logreg.predict_proba(X_test)[:,1]\n",
        "\n",
        "confusion = metrics.confusion_matrix(y_true=y_test, y_pred=logit_pred_proba > .5)\n",
        "print(feature_cols)\n",
        "print(score)\n",
        "print(confusion)\n"
      ],
      "execution_count": 0,
      "outputs": []
    },
    {
      "cell_type": "code",
      "metadata": {
        "id": "5ZD_BwiOb6fx",
        "colab_type": "code",
        "colab": {}
      },
      "source": [
        "santaslist['Probabilty'] = logreg.predict_proba(santaslist[feature_cols])[:,1]"
      ],
      "execution_count": 0,
      "outputs": []
    },
    {
      "cell_type": "code",
      "metadata": {
        "id": "RgxQ-SXFb95P",
        "colab_type": "code",
        "colab": {}
      },
      "source": [
        "santaslist"
      ],
      "execution_count": 0,
      "outputs": []
    }
  ]
}
